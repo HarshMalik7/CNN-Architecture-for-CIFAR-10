{
 "cells": [
  {
   "cell_type": "markdown",
   "metadata": {},
   "source": [
    "# Importing the Required Libraries"
   ]
  },
  {
   "cell_type": "code",
   "execution_count": 92,
   "metadata": {
    "colab": {
     "base_uri": "https://localhost:8080/"
    },
    "id": "wGJoFaolrdCV",
    "outputId": "adf5584b-5285-4865-bb99-39b9fd720a4d"
   },
   "outputs": [
    {
     "name": "stdout",
     "output_type": "stream",
     "text": [
      "Using cuda.\n"
     ]
    }
   ],
   "source": [
    "%matplotlib inline\n",
    "import matplotlib.pyplot as plt\n",
    "import torch\n",
    "import torchvision\n",
    "import torchvision.transforms as transforms\n",
    "import torch.nn.functional as function\n",
    "device = torch.device('cuda' if torch.cuda.is_available() else 'cpu')\n",
    "print(f'Using {device}.')"
   ]
  },
  {
   "cell_type": "markdown",
   "metadata": {},
   "source": [
    "# Data Loader with Data Augmentation Techniques applied"
   ]
  },
  {
   "cell_type": "code",
   "execution_count": 135,
   "metadata": {
    "id": "VyJbZiA-sdm8"
   },
   "outputs": [],
   "source": [
    "def load_data_cifar(batch_size):\n",
    "    \"\"\"Download the CIFAR-10 dataset and then load it into memory.\"\"\"\n",
    "    # Data Augmentation for input images\n",
    "    # Transforms for training data\n",
    "    transform_train = transforms.Compose([\n",
    "        transforms.RandomHorizontalFlip(),  # randomly flip images horizontally\n",
    "        transforms.RandomRotation(10),       # randomly rotate images in the range (degrees)\n",
    "        transforms.ToTensor(),  # convert the image to a tensor\n",
    "        transforms.Normalize((0.4914, 0.4822, 0.4465), (0.2023, 0.1994, 0.2010))  # normalize with mean and std for CIFAR-10\n",
    "    ])\n",
    "\n",
    "# Transforms for test data (without augmentation, just normalisation)\n",
    "    transform_test = transforms.Compose([\n",
    "        transforms.ToTensor(), # convert the image to a tensor\n",
    "        transforms.Normalize((0.4914, 0.4822, 0.4465), (0.2023, 0.1994, 0.2010)) # normalize with mean and std for CIFAR-10\n",
    "    ])\n",
    "\n",
    "    cifar_train = torchvision.datasets.CIFAR10(root=\"../data\", train=True, transform=transform_train, download=True)\n",
    "    cifar_test = torchvision.datasets.CIFAR10(root=\"../data\", train=False, transform=transform_test, download=True)\n",
    "\n",
    "    return (torch.utils.data.DataLoader(cifar_train, batch_size, shuffle=True, num_workers=2, pin_memory=True),\n",
    "            torch.utils.data.DataLoader(cifar_test, batch_size, shuffle=False, num_workers=2, pin_memory=True))"
   ]
  },
  {
   "cell_type": "code",
   "execution_count": 116,
   "metadata": {
    "colab": {
     "base_uri": "https://localhost:8080/"
    },
    "id": "bSH-HpafvTxj",
    "outputId": "288e47d1-6c12-4ad0-d8a2-3e08978811e9"
   },
   "outputs": [
    {
     "name": "stdout",
     "output_type": "stream",
     "text": [
      "Files already downloaded and verified\n",
      "Files already downloaded and verified\n"
     ]
    }
   ],
   "source": [
    "batch_size = 256 # Defines the batch size\n",
    "train_iter, test_iter = load_data_cifar(batch_size)"
   ]
  },
  {
   "cell_type": "markdown",
   "metadata": {},
   "source": [
    "# The Model Architecture"
   ]
  },
  {
   "cell_type": "markdown",
   "metadata": {},
   "source": [
    "### Intermediate Block"
   ]
  },
  {
   "cell_type": "code",
   "execution_count": 136,
   "metadata": {
    "id": "Owl4uE-CwU3w"
   },
   "outputs": [],
   "source": [
    "class IntermediateBlock(torch.nn.Module):\n",
    "    def __init__(self, input_channels, output_channels, num_layers, kernel_size, padding, stride):\n",
    "        super(IntermediateBlock, self).__init__()\n",
    "        self.num_layers = num_layers\n",
    "        \n",
    "        # Dynamically create convolution layers followed by batch normalisation and ReLU functions.\n",
    "        self.convs = torch.nn.ModuleList([\n",
    "            torch.nn.Sequential(\n",
    "                torch.nn.Conv2d(input_channels, output_channels, kernel_size=kernel_size[i], padding=padding[i], stride=stride,bias=True),\n",
    "                torch.nn.BatchNorm2d(output_channels),\n",
    "                torch.nn.ReLU()\n",
    "            ) for i in range(num_layers)\n",
    "        ])\n",
    "\n",
    "        self.fc_layer = torch.nn.Linear(in_features=input_channels, out_features=num_layers)\n",
    "\n",
    "\n",
    "    def forward(self, x):\n",
    "        # Calculating the mean of each channel of the input image\n",
    "        m = function.adaptive_avg_pool2d(x, 1).view(x.size(0), -1)\n",
    "        # Passing the vector with mean values to the fully connected layer\n",
    "        a = self.fc_layer(m)\n",
    "        # Resizing the vector 'a' so it can be multiplied with the outputs from each convolutional layer\n",
    "        a = a.view(a.size(0), a.size(1), 1, 1)\n",
    "\n",
    "        x_prime = None\n",
    "\n",
    "        # Processing the same image using different layers in the block (layers are not composed)\n",
    "        for i, conv in enumerate(self.convs):\n",
    "            Cx = conv(x)\n",
    "            # Multiplication of output from convolution layer and vector 'a'\n",
    "            weighted_Cx = Cx * a[:, i:i+1, :, :]\n",
    "            if x_prime is None:\n",
    "                x_prime = weighted_Cx\n",
    "            else:\n",
    "                x_prime += weighted_Cx\n",
    "        \n",
    "        return x_prime\n",
    "\n"
   ]
  },
  {
   "cell_type": "code",
   "execution_count": 118,
   "metadata": {},
   "outputs": [],
   "source": [
    "class OutputBlock(torch.nn.Module):\n",
    "    def __init__(self, num_inputs, num_outputs):\n",
    "        super(OutputBlock, self).__init__()\n",
    "\n",
    "        self.num_inputs = num_inputs\n",
    "        self.num_outputs = num_outputs\n",
    "\n",
    "        # Initialising Output Block with desired hyperparameters\n",
    "        self.channel_avg = torch.nn.AdaptiveAvgPool2d((1, 1))\n",
    "        self.flatten = torch.nn.Flatten()\n",
    "        self.linear = torch.nn.Linear(self.num_inputs, self.num_outputs)\n",
    "\n",
    "    def forward(self, x):\n",
    "        \n",
    "        out = self.channel_avg(x)\n",
    "        out = self.flatten(out)\n",
    "        out = self.linear(out)\n",
    "        \n",
    "        return out"
   ]
  },
  {
   "cell_type": "markdown",
   "metadata": {},
   "source": [
    "### The Architecture Block \n",
    "#### This is where both, the intermediate and output blocks are called in the desired sequence."
   ]
  },
  {
   "cell_type": "code",
   "execution_count": 132,
   "metadata": {
    "id": "nvSgaEOvmwJA"
   },
   "outputs": [],
   "source": [
    "class Architecture(torch.nn.Module):\n",
    "    def __init__(self, num_outputs):\n",
    "        super(Architecture, self).__init__()\n",
    "\n",
    "        self.num_outputs = num_outputs\n",
    "\n",
    "        # Calling the Intermediate Blocks with the desired hyperparameters\n",
    "        self.imb1 = IntermediateBlock(input_channels=3, output_channels=32, num_layers=3, kernel_size=[3,5,7], padding=[0,1,2], stride=1)\n",
    "        self.imb2 = IntermediateBlock(input_channels=32, output_channels=64, num_layers=5, kernel_size=[3,5,7,9,11], padding=[1,2,3,4,5], stride=1)\n",
    "        self.imb3 = IntermediateBlock(input_channels=64, output_channels=128, num_layers=3, kernel_size=[3,5,7], padding=[0,1,2], stride=1)\n",
    "\n",
    "        # Calling the Output Block with the desired hyperparameters\n",
    "        self.ob = OutputBlock(128, self.num_outputs)\n",
    "\n",
    "    def forward(self, x):\n",
    "\n",
    "        out = self.imb1(x)\n",
    "        out = self.imb2(out)\n",
    "        out = self.imb3(out)\n",
    "        out = self.ob(out)\n",
    "\n",
    "        return out"
   ]
  },
  {
   "cell_type": "markdown",
   "metadata": {},
   "source": [
    "# Weight Initialisation and Creation of Model"
   ]
  },
  {
   "cell_type": "code",
   "execution_count": 133,
   "metadata": {
    "colab": {
     "base_uri": "https://localhost:8080/"
    },
    "id": "VG7W6ALxC0HR",
    "outputId": "e82d81a3-21c4-4ee9-cad6-b29f1eef05b7"
   },
   "outputs": [
    {
     "data": {
      "text/plain": [
       "Architecture(\n",
       "  (imb1): IntermediateBlock(\n",
       "    (convs): ModuleList(\n",
       "      (0): Sequential(\n",
       "        (0): Conv2d(3, 32, kernel_size=(3, 3), stride=(1, 1))\n",
       "        (1): BatchNorm2d(32, eps=1e-05, momentum=0.1, affine=True, track_running_stats=True)\n",
       "        (2): ReLU()\n",
       "      )\n",
       "      (1): Sequential(\n",
       "        (0): Conv2d(3, 32, kernel_size=(5, 5), stride=(1, 1), padding=(1, 1))\n",
       "        (1): BatchNorm2d(32, eps=1e-05, momentum=0.1, affine=True, track_running_stats=True)\n",
       "        (2): ReLU()\n",
       "      )\n",
       "      (2): Sequential(\n",
       "        (0): Conv2d(3, 32, kernel_size=(7, 7), stride=(1, 1), padding=(2, 2))\n",
       "        (1): BatchNorm2d(32, eps=1e-05, momentum=0.1, affine=True, track_running_stats=True)\n",
       "        (2): ReLU()\n",
       "      )\n",
       "    )\n",
       "    (fc_layer): Linear(in_features=3, out_features=3, bias=True)\n",
       "  )\n",
       "  (imb2): IntermediateBlock(\n",
       "    (convs): ModuleList(\n",
       "      (0): Sequential(\n",
       "        (0): Conv2d(32, 64, kernel_size=(3, 3), stride=(1, 1), padding=(1, 1))\n",
       "        (1): BatchNorm2d(64, eps=1e-05, momentum=0.1, affine=True, track_running_stats=True)\n",
       "        (2): ReLU()\n",
       "      )\n",
       "      (1): Sequential(\n",
       "        (0): Conv2d(32, 64, kernel_size=(5, 5), stride=(1, 1), padding=(2, 2))\n",
       "        (1): BatchNorm2d(64, eps=1e-05, momentum=0.1, affine=True, track_running_stats=True)\n",
       "        (2): ReLU()\n",
       "      )\n",
       "      (2): Sequential(\n",
       "        (0): Conv2d(32, 64, kernel_size=(7, 7), stride=(1, 1), padding=(3, 3))\n",
       "        (1): BatchNorm2d(64, eps=1e-05, momentum=0.1, affine=True, track_running_stats=True)\n",
       "        (2): ReLU()\n",
       "      )\n",
       "      (3): Sequential(\n",
       "        (0): Conv2d(32, 64, kernel_size=(9, 9), stride=(1, 1), padding=(4, 4))\n",
       "        (1): BatchNorm2d(64, eps=1e-05, momentum=0.1, affine=True, track_running_stats=True)\n",
       "        (2): ReLU()\n",
       "      )\n",
       "      (4): Sequential(\n",
       "        (0): Conv2d(32, 64, kernel_size=(11, 11), stride=(1, 1), padding=(5, 5))\n",
       "        (1): BatchNorm2d(64, eps=1e-05, momentum=0.1, affine=True, track_running_stats=True)\n",
       "        (2): ReLU()\n",
       "      )\n",
       "    )\n",
       "    (fc_layer): Linear(in_features=32, out_features=5, bias=True)\n",
       "  )\n",
       "  (imb3): IntermediateBlock(\n",
       "    (convs): ModuleList(\n",
       "      (0): Sequential(\n",
       "        (0): Conv2d(64, 128, kernel_size=(3, 3), stride=(1, 1))\n",
       "        (1): BatchNorm2d(128, eps=1e-05, momentum=0.1, affine=True, track_running_stats=True)\n",
       "        (2): ReLU()\n",
       "      )\n",
       "      (1): Sequential(\n",
       "        (0): Conv2d(64, 128, kernel_size=(5, 5), stride=(1, 1), padding=(1, 1))\n",
       "        (1): BatchNorm2d(128, eps=1e-05, momentum=0.1, affine=True, track_running_stats=True)\n",
       "        (2): ReLU()\n",
       "      )\n",
       "      (2): Sequential(\n",
       "        (0): Conv2d(64, 128, kernel_size=(7, 7), stride=(1, 1), padding=(2, 2))\n",
       "        (1): BatchNorm2d(128, eps=1e-05, momentum=0.1, affine=True, track_running_stats=True)\n",
       "        (2): ReLU()\n",
       "      )\n",
       "    )\n",
       "    (fc_layer): Linear(in_features=64, out_features=3, bias=True)\n",
       "  )\n",
       "  (ob): OutputBlock(\n",
       "    (channel_avg): AdaptiveAvgPool2d(output_size=(1, 1))\n",
       "    (flatten): Flatten(start_dim=1, end_dim=-1)\n",
       "    (linear): Linear(in_features=128, out_features=10, bias=True)\n",
       "  )\n",
       ")"
      ]
     },
     "execution_count": 133,
     "metadata": {},
     "output_type": "execute_result"
    }
   ],
   "source": [
    "def init_weights(m):\n",
    "    if type(m) == torch.nn.Linear or type(m) == torch.nn.Conv2d:\n",
    "        torch.nn.init.kaiming_uniform_(m.weight, mode='fan_in', nonlinearity='relu')\n",
    "\n",
    "num_outputs = 10 # total number of classes\n",
    "\n",
    "model = Architecture(num_outputs).to(device) # Creates and moves the model to `device`\n",
    "model.apply(init_weights) # Applies `init_weights` to every `torch.nn.Module` inside `model`"
   ]
  },
  {
   "cell_type": "markdown",
   "metadata": {},
   "source": [
    "# Loss Function"
   ]
  },
  {
   "cell_type": "code",
   "execution_count": 121,
   "metadata": {
    "id": "_ewwwjTIGQKG"
   },
   "outputs": [],
   "source": [
    "loss = torch.nn.CrossEntropyLoss()"
   ]
  },
  {
   "cell_type": "markdown",
   "metadata": {},
   "source": [
    "# Optimization Algorithm"
   ]
  },
  {
   "cell_type": "code",
   "execution_count": 122,
   "metadata": {
    "id": "XYur1ZrxGQ3R"
   },
   "outputs": [],
   "source": [
    "lr = 0.01\n",
    "optimizer = torch.optim.Adamax(model.parameters(), lr=lr)"
   ]
  },
  {
   "cell_type": "markdown",
   "metadata": {},
   "source": [
    "# Evaluation"
   ]
  },
  {
   "cell_type": "code",
   "execution_count": 123,
   "metadata": {
    "id": "URBh_x4YGTQd"
   },
   "outputs": [],
   "source": [
    "def correct(logits, y):\n",
    "    y_hat = logits.argmax(axis=1) # Finds the column with the highest value for each row of `logits`.\n",
    "    return (y_hat == y).float().sum() # Computes the number of times that `y_hat` and `y` match."
   ]
  },
  {
   "cell_type": "code",
   "execution_count": 124,
   "metadata": {
    "id": "EntgAhxOGZaq"
   },
   "outputs": [],
   "source": [
    "def evaluate_metric(model, data_iter, metric):\n",
    "    \"\"\"Compute the average `metric` of the model on a dataset.\"\"\"\n",
    "    c = 0.\n",
    "    n = 0.\n",
    "    for X, y in data_iter:\n",
    "        X, y = X.to(device), y.to(device) # Moves data to `device`\n",
    "        logits = model(X)\n",
    "        c += metric(logits, y)\n",
    "        n += len(y)\n",
    "\n",
    "    return float(c / n)"
   ]
  },
  {
   "cell_type": "code",
   "execution_count": 125,
   "metadata": {
    "colab": {
     "base_uri": "https://localhost:8080/"
    },
    "id": "kQoKWPhwGb3p",
    "outputId": "8c5a258f-531d-49c7-a789-e97c754b650b"
   },
   "outputs": [
    {
     "name": "stdout",
     "output_type": "stream",
     "text": [
      "Training accuracy: 0.09978000074625015. Testing accuracy: 0.09779999405145645.\n"
     ]
    }
   ],
   "source": [
    "model.eval() # This is necessary because batch normalization behaves differently between training and evaluation\n",
    "print(f'Training accuracy: {evaluate_metric(model, train_iter, correct)}. Testing accuracy: {evaluate_metric(model, test_iter, correct)}.')"
   ]
  },
  {
   "cell_type": "markdown",
   "metadata": {},
   "source": [
    "# Training"
   ]
  },
  {
   "cell_type": "markdown",
   "metadata": {},
   "source": [
    "### First 40 epochs with learning rate 0.01"
   ]
  },
  {
   "cell_type": "code",
   "execution_count": 126,
   "metadata": {
    "colab": {
     "base_uri": "https://localhost:8080/"
    },
    "id": "X7zO73tKGj2r",
    "outputId": "23610c46-8b6b-4ad3-f1d7-bc949919d1bf"
   },
   "outputs": [
    {
     "name": "stdout",
     "output_type": "stream",
     "text": [
      "\n",
      "Epoch 1/40.\n",
      "Training accuracy: 0.15281999111175537. Testing accuracy: 0.15469999611377716. Duration: 30.871s.\n",
      "\n",
      "Epoch 2/40.\n",
      "Training accuracy: 0.1879199892282486. Testing accuracy: 0.19290000200271606. Duration: 31.122s.\n",
      "\n",
      "Epoch 3/40.\n",
      "Training accuracy: 0.22822000086307526. Testing accuracy: 0.23169998824596405. Duration: 31.635s.\n",
      "\n",
      "Epoch 4/40.\n",
      "Training accuracy: 0.2739799916744232. Testing accuracy: 0.2766999900341034. Duration: 29.223s.\n",
      "\n",
      "Epoch 5/40.\n",
      "Training accuracy: 0.32767999172210693. Testing accuracy: 0.3269999921321869. Duration: 31.552s.\n",
      "\n",
      "Epoch 6/40.\n",
      "Training accuracy: 0.3917199969291687. Testing accuracy: 0.3986999988555908. Duration: 31.336s.\n",
      "\n",
      "Epoch 7/40.\n",
      "Training accuracy: 0.4308599829673767. Testing accuracy: 0.4341999888420105. Duration: 31.723s.\n",
      "\n",
      "Epoch 8/40.\n",
      "Training accuracy: 0.4703199863433838. Testing accuracy: 0.47839999198913574. Duration: 31.375s.\n",
      "\n",
      "Epoch 9/40.\n",
      "Training accuracy: 0.5361599922180176. Testing accuracy: 0.5340999960899353. Duration: 31.413s.\n",
      "\n",
      "Epoch 10/40.\n",
      "Training accuracy: 0.5972599983215332. Testing accuracy: 0.5981000065803528. Duration: 31.393s.\n",
      "\n",
      "Epoch 11/40.\n",
      "Training accuracy: 0.6271799802780151. Testing accuracy: 0.6255999803543091. Duration: 29.108s.\n",
      "\n",
      "Epoch 12/40.\n",
      "Training accuracy: 0.6117199659347534. Testing accuracy: 0.6180999875068665. Duration: 31.845s.\n",
      "\n",
      "Epoch 13/40.\n",
      "Training accuracy: 0.6305199861526489. Testing accuracy: 0.6335999965667725. Duration: 31.138s.\n",
      "\n",
      "Epoch 14/40.\n",
      "Training accuracy: 0.6017799973487854. Testing accuracy: 0.6150999665260315. Duration: 31.374s.\n",
      "\n",
      "Epoch 15/40.\n",
      "Training accuracy: 0.6527799963951111. Testing accuracy: 0.6554999947547913. Duration: 31.364s.\n",
      "\n",
      "Epoch 16/40.\n",
      "Training accuracy: 0.6699399948120117. Testing accuracy: 0.6807000041007996. Duration: 31.393s.\n",
      "\n",
      "Epoch 17/40.\n",
      "Training accuracy: 0.7139599919319153. Testing accuracy: 0.7148000001907349. Duration: 31.310s.\n",
      "\n",
      "Epoch 18/40.\n",
      "Training accuracy: 0.7189799547195435. Testing accuracy: 0.7060999870300293. Duration: 29.296s.\n",
      "\n",
      "Epoch 19/40.\n",
      "Training accuracy: 0.7445200085639954. Testing accuracy: 0.7394999861717224. Duration: 31.255s.\n",
      "\n",
      "Epoch 20/40.\n",
      "Training accuracy: 0.6697799563407898. Testing accuracy: 0.6818000078201294. Duration: 31.268s.\n",
      "\n",
      "Epoch 21/40.\n",
      "Training accuracy: 0.7327199578285217. Testing accuracy: 0.7263999581336975. Duration: 30.686s.\n",
      "\n",
      "Epoch 22/40.\n",
      "Training accuracy: 0.7682399749755859. Testing accuracy: 0.7599999904632568. Duration: 31.428s.\n",
      "\n",
      "Epoch 23/40.\n",
      "Training accuracy: 0.7676399946212769. Testing accuracy: 0.750499963760376. Duration: 31.451s.\n",
      "\n",
      "Epoch 24/40.\n",
      "Training accuracy: 0.7673999667167664. Testing accuracy: 0.7543999552726746. Duration: 31.247s.\n",
      "\n",
      "Epoch 25/40.\n",
      "Training accuracy: 0.7871999740600586. Testing accuracy: 0.7759999632835388. Duration: 29.866s.\n",
      "\n",
      "Epoch 26/40.\n",
      "Training accuracy: 0.7978799939155579. Testing accuracy: 0.7730000019073486. Duration: 31.459s.\n",
      "\n",
      "Epoch 27/40.\n",
      "Training accuracy: 0.7693399786949158. Testing accuracy: 0.7515000104904175. Duration: 31.295s.\n",
      "\n",
      "Epoch 28/40.\n",
      "Training accuracy: 0.8049599528312683. Testing accuracy: 0.7804999947547913. Duration: 29.760s.\n",
      "\n",
      "Epoch 29/40.\n",
      "Training accuracy: 0.7467799782752991. Testing accuracy: 0.7441999912261963. Duration: 31.125s.\n",
      "\n",
      "Epoch 30/40.\n",
      "Training accuracy: 0.8286399841308594. Testing accuracy: 0.8027999997138977. Duration: 31.404s.\n",
      "\n",
      "Epoch 31/40.\n",
      "Training accuracy: 0.8306799530982971. Testing accuracy: 0.7965999841690063. Duration: 31.414s.\n",
      "\n",
      "Epoch 32/40.\n",
      "Training accuracy: 0.8169399499893188. Testing accuracy: 0.7893999814987183. Duration: 30.206s.\n",
      "\n",
      "Epoch 33/40.\n",
      "Training accuracy: 0.8109399676322937. Testing accuracy: 0.78329998254776. Duration: 31.352s.\n",
      "\n",
      "Epoch 34/40.\n",
      "Training accuracy: 0.8304399847984314. Testing accuracy: 0.7971000075340271. Duration: 31.050s.\n",
      "\n",
      "Epoch 35/40.\n",
      "Training accuracy: 0.8487599492073059. Testing accuracy: 0.8112999796867371. Duration: 29.533s.\n",
      "\n",
      "Epoch 36/40.\n",
      "Training accuracy: 0.8621599674224854. Testing accuracy: 0.825499951839447. Duration: 31.257s.\n",
      "\n",
      "Epoch 37/40.\n",
      "Training accuracy: 0.8479599952697754. Testing accuracy: 0.8118999600410461. Duration: 31.429s.\n",
      "\n",
      "Epoch 38/40.\n",
      "Training accuracy: 0.8384599685668945. Testing accuracy: 0.8073999881744385. Duration: 31.242s.\n",
      "\n",
      "Epoch 39/40.\n",
      "Training accuracy: 0.8616199493408203. Testing accuracy: 0.8184999823570251. Duration: 30.444s.\n",
      "\n",
      "Epoch 40/40.\n",
      "Training accuracy: 0.8130799531936646. Testing accuracy: 0.7799999713897705. Duration: 31.448s.\n"
     ]
    }
   ],
   "source": [
    "import time\n",
    "\n",
    "losses = [] # Stores the loss for each training batch\n",
    "train_accs = [] # Stores the training accuracy after each epoch\n",
    "test_accs = [] # Stores the testing accuracy after each epoch\n",
    "\n",
    "num_epochs = 40\n",
    "for epoch in range(num_epochs):\n",
    "    print(f'\\nEpoch {epoch + 1}/{num_epochs}.')\n",
    "    start_time = time.perf_counter()\n",
    "\n",
    "    model.train() # This is necessary because batch normalization behaves differently between training and evaluation\n",
    "\n",
    "    for X, y in train_iter:\n",
    "        X, y = X.to(device), y.to(device) # Moves data to `device`\n",
    "        logits = model(X) # Computes the logits for the batch of images `X`\n",
    "\n",
    "        l = loss(logits, y) # Computes the loss given the `logits` and the class vector `y`\n",
    "        optimizer.zero_grad() # Zeroes the gradients stored in the model parameters\n",
    "        l.backward() # Computes the gradient of the loss `l` with respect to the model parameters\n",
    "        torch.nn.utils.clip_grad_value_(model.parameters(), 1.0) # Gradient Clipper\n",
    "        optimizer.step() # Updates the model parameters based on the gradients stored inside them\n",
    "\n",
    "        losses.append(float(l)) # Stores the loss for this batch\n",
    "\n",
    "    with torch.no_grad(): # Computing performance metrics does not require gradients\n",
    "        model.eval() # This is necessary because batch normalization behaves differently between training and evaluation\n",
    "        train_accs.append(evaluate_metric(model, train_iter, correct))\n",
    "        test_accs.append(evaluate_metric(model, test_iter, correct))\n",
    "\n",
    "        end_time = time.perf_counter()\n",
    "\n",
    "        print(f'Training accuracy: {train_accs[-1]}. Testing accuracy: {test_accs[-1]}. Duration: {end_time - start_time:.3f}s.') # Computes and displays training/testing dataset accuracy.\n"
   ]
  },
  {
   "cell_type": "markdown",
   "metadata": {},
   "source": [
    "### Next 5 epochs with learning rate 0.001"
   ]
  },
  {
   "cell_type": "code",
   "execution_count": 127,
   "metadata": {},
   "outputs": [],
   "source": [
    "lr = 0.001\n",
    "optimizer = torch.optim.Adamax(model.parameters(), lr=lr)"
   ]
  },
  {
   "cell_type": "code",
   "execution_count": 128,
   "metadata": {},
   "outputs": [
    {
     "name": "stdout",
     "output_type": "stream",
     "text": [
      "\n",
      "Epoch 41/45.\n",
      "Training accuracy: 0.9180399775505066. Testing accuracy: 0.8567000031471252. Duration: 31.246s.\n",
      "\n",
      "Epoch 42/45.\n",
      "Training accuracy: 0.9277999997138977. Testing accuracy: 0.8572999835014343. Duration: 29.236s.\n",
      "\n",
      "Epoch 43/45.\n",
      "Training accuracy: 0.9293199777603149. Testing accuracy: 0.8575999736785889. Duration: 31.243s.\n",
      "\n",
      "Epoch 44/45.\n",
      "Training accuracy: 0.9304800033569336. Testing accuracy: 0.8572999835014343. Duration: 31.309s.\n",
      "\n",
      "Epoch 45/45.\n",
      "Training accuracy: 0.9325999617576599. Testing accuracy: 0.8557999730110168. Duration: 31.276s.\n"
     ]
    }
   ],
   "source": [
    "num_epochs = 45\n",
    "for epoch in range(40,num_epochs):\n",
    "    print(f'\\nEpoch {epoch + 1}/{num_epochs}.')\n",
    "    start_time = time.perf_counter()\n",
    "\n",
    "    model.train() # This is necessary because batch normalization behaves differently between training and evaluation\n",
    "\n",
    "    for X, y in train_iter:\n",
    "        X, y = X.to(device), y.to(device) # Moves data to `device`\n",
    "        logits = model(X) # Computes the logits for the batch of images `X`\n",
    "\n",
    "        l = loss(logits, y) # Computes the loss given the `logits` and the class vector `y`\n",
    "        optimizer.zero_grad() # Zeroes the gradients stored in the model parameters\n",
    "        l.backward() # Computes the gradient of the loss `l` with respect to the model parameters\n",
    "        torch.nn.utils.clip_grad_value_(model.parameters(), 1.0) # Gradient Clipper\n",
    "        optimizer.step() # Updates the model parameters based on the gradients stored inside them\n",
    "\n",
    "        losses.append(float(l)) # Stores the loss for this batch\n",
    "\n",
    "    with torch.no_grad(): # Computing performance metrics does not require gradients\n",
    "        model.eval() # This is necessary because batch normalization behaves differently between training and evaluation\n",
    "        train_accs.append(evaluate_metric(model, train_iter, correct))\n",
    "        test_accs.append(evaluate_metric(model, test_iter, correct))\n",
    "\n",
    "        end_time = time.perf_counter()\n",
    "\n",
    "        print(f'Training accuracy: {train_accs[-1]}. Testing accuracy: {test_accs[-1]}. Duration: {end_time - start_time:.3f}s.') # Computes and displays training/testing dataset accuracy.\n",
    "\n"
   ]
  },
  {
   "cell_type": "markdown",
   "metadata": {},
   "source": [
    "### Plots for losses per batch, training and testing accuracies"
   ]
  },
  {
   "cell_type": "code",
   "execution_count": 130,
   "metadata": {},
   "outputs": [
    {
     "data": {
      "image/png": "[encoded data removed]",
      "text/plain": [
       "<Figure size 640x480 with 1 Axes>"
      ]
     },
     "metadata": {},
     "output_type": "display_data"
    },
    {
     "data": {
      "image/png": "[encoded data removed]",
      "text/plain": [
       "<Figure size 640x480 with 1 Axes>"
      ]
     },
     "metadata": {},
     "output_type": "display_data"
    }
   ],
   "source": [
    "plt.plot(losses) # Plots the loss for each training batch\n",
    "plt.title(\"Plots the loss for each training batch\")\n",
    "plt.xlabel('Training batch')\n",
    "plt.ylabel('Cross entropy loss')\n",
    "plt.show()\n",
    "\n",
    "plt.plot(train_accs, label='Training accuracy')\n",
    "plt.plot(test_accs, label='Testing accuracy')\n",
    "plt.title('Accuracy Per Epoch')\n",
    "plt.legend(loc='best')\n",
    "plt.xlabel('Epoch')\n",
    "plt.show()"
   ]
  },
  {
   "cell_type": "code",
   "execution_count": null,
   "metadata": {},
   "outputs": [],
   "source": []
  }
 ],
 "metadata": {
  "accelerator": "GPU",
  "colab": {
   "gpuType": "T4",
   "provenance": []
  },
  "kernelspec": {
   "display_name": "Python 3 (ipykernel)",
   "language": "python",
   "name": "python3"
  },
  "language_info": {
   "codemirror_mode": {
    "name": "ipython",
    "version": 3
   },
   "file_extension": ".py",
   "mimetype": "text/x-python",
   "name": "python",
   "nbconvert_exporter": "python",
   "pygments_lexer": "ipython3",
   "version": "3.11.7"
  }
 },
 "nbformat": 4,
 "nbformat_minor": 4
}
